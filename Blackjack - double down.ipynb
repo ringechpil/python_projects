{
 "cells": [
  {
   "cell_type": "markdown",
   "metadata": {
    "collapsed": true
   },
   "source": [
    "## Blackjack with double-down"
   ]
  },
  {
   "cell_type": "markdown",
   "metadata": {},
   "source": [
    "## Game Play\n",
    "To play a hand of Blackjack the following steps must be followed:\n",
    "1. Create a deck of 52 cards\n",
    "2. Shuffle the deck\n",
    "3. Ask the Player for their bet\n",
    "4. Make sure that the Player's bet does not exceed their available chips\n",
    "5. Deal two cards to the Dealer and two cards to the Player\n",
    "6. Show only one of the Dealer's cards, the other remains hidden\n",
    "7. Show both of the Player's cards\n",
    "8. Ask the Player if they wish to Hit, and take another card\n",
    "9. If the Player's hand doesn't Bust (go over 21), ask if they'd like to Hit again.\n",
    "10. If a Player Stands, play the Dealer's hand. The dealer will always Hit until the Dealer's value meets or exceeds 17\n",
    "11. Determine the winner and adjust the Player's chips accordingly\n",
    "12. Ask the Player if they'd like to play again"
   ]
  },
  {
   "cell_type": "markdown",
   "metadata": {},
   "source": [
    "**Import the cards**"
   ]
  },
  {
   "cell_type": "code",
   "execution_count": 1,
   "metadata": {},
   "outputs": [],
   "source": [
    "import random\n",
    "\n",
    "suits = ('Hearts', 'Diamonds', 'Spades', 'Clubs')\n",
    "ranks = ('Two', 'Three', 'Four', 'Five', 'Six', 'Seven', 'Eight', 'Nine', 'Ten', 'Jack', 'Queen', 'King', 'Ace')\n",
    "values = {'Two':2, 'Three':3, 'Four':4, 'Five':5, 'Six':6, 'Seven':7, 'Eight':8, 'Nine':9, 'Ten':10, 'Jack':10,\n",
    "         'Queen':10, 'King':10, 'Ace':11}"
   ]
  },
  {
   "cell_type": "markdown",
   "metadata": {},
   "source": [
    "**Create a Card Class**"
   ]
  },
  {
   "cell_type": "code",
   "execution_count": 2,
   "metadata": {},
   "outputs": [],
   "source": [
    "class Card:\n",
    "    \n",
    "    def __init__(self,rank,suit):\n",
    "        self.suit = suit\n",
    "        self.rank = rank\n",
    "    \n",
    "    def __str__(self):\n",
    "        return '{} of {}'.format(self.rank,self.suit)"
   ]
  },
  {
   "cell_type": "markdown",
   "metadata": {},
   "source": [
    "**Create a Deck Class**"
   ]
  },
  {
   "cell_type": "code",
   "execution_count": 3,
   "metadata": {},
   "outputs": [],
   "source": [
    "class Deck:\n",
    "    \n",
    "    def __init__(self):\n",
    "        self.deck = [Card(rank,suit) for rank in ranks for suit in suits]\n",
    "    \n",
    "    def __str__(self):\n",
    "         return str(['{} of {}'.format(Card.rank,Card.suit) for Card in self.deck])\n",
    "\n",
    "    def shuffle(self):\n",
    "        random.shuffle(self.deck)\n",
    "        \n",
    "    def deal(self):\n",
    "        return self.deck.pop(0)"
   ]
  },
  {
   "cell_type": "markdown",
   "metadata": {},
   "source": [
    "**Create a Hand Class**"
   ]
  },
  {
   "cell_type": "code",
   "execution_count": 4,
   "metadata": {},
   "outputs": [],
   "source": [
    "class Hand:\n",
    "    def __init__(self):\n",
    "        self.cards = []  \n",
    "        self.value = 0   \n",
    "        self.aces = 0    \n",
    "    \n",
    "    def add_card(self,card):\n",
    "        self.cards.append(card)\n",
    "        self.value += values[card.rank]\n",
    "        \n",
    "        if (card.rank == 'Ace'):\n",
    "            self.aces += 1\n",
    "        \n",
    "    def adjust_for_ace(self):\n",
    "        self.value -= 10*self.aces"
   ]
  },
  {
   "cell_type": "markdown",
   "metadata": {},
   "source": [
    "**Create a Chips Class**"
   ]
  },
  {
   "cell_type": "code",
   "execution_count": 5,
   "metadata": {},
   "outputs": [],
   "source": [
    "class Chips:\n",
    "    \n",
    "    def __init__(self):\n",
    "        self.total = 100\n",
    "        self.bet = 0\n",
    "    \n",
    "    def __str__(self):\n",
    "        return 'You currently have {} dollars.'.format(self.total)\n",
    "        \n",
    "    def win_bet(self):\n",
    "        self.total += 2*self.bet\n",
    "    \n",
    "    def lose_bet(self):\n",
    "        self.total -= self.bet"
   ]
  },
  {
   "cell_type": "markdown",
   "metadata": {},
   "source": [
    "**Write a function for taking bets**"
   ]
  },
  {
   "cell_type": "code",
   "execution_count": 6,
   "metadata": {},
   "outputs": [],
   "source": [
    "def take_bet(chips):\n",
    "    \n",
    "    while True:\n",
    "        try:\n",
    "            bet = int(input('Place your bet'))\n",
    "            if (bet > chips.total):\n",
    "                print('Nope.')\n",
    "                print('You can bet {} or less.'.format(chips))\n",
    "            else:\n",
    "                chips.bet = bet\n",
    "                break\n",
    "        \n",
    "        except:\n",
    "            print('Only integers allowed, dude.')   "
   ]
  },
  {
   "cell_type": "markdown",
   "metadata": {},
   "source": [
    "**Write a function for double down bet**"
   ]
  },
  {
   "cell_type": "code",
   "execution_count": 7,
   "metadata": {},
   "outputs": [],
   "source": [
    "def double_down(chips):\n",
    "    \n",
    "    minimal = min(chips.bet,chips.total - chips.bet)\n",
    "    \n",
    "    while True:\n",
    "        try:\n",
    "            bet = int(input('Raising your bet, eh? How much? You have {} dollars remaining.'.format(minimal)))\n",
    "            if (bet > minimal):\n",
    "                print('Nope.')\n",
    "                print('Moze {} ili manje.'.format(minimal))\n",
    "            else:\n",
    "                chips.bet += bet\n",
    "                break\n",
    "        \n",
    "        except:\n",
    "            print('Only integers allowed, dude.')   "
   ]
  },
  {
   "cell_type": "markdown",
   "metadata": {},
   "source": [
    "**Write a function for taking hits**"
   ]
  },
  {
   "cell_type": "code",
   "execution_count": 8,
   "metadata": {},
   "outputs": [],
   "source": [
    "def hit(deck,hand):\n",
    "    \n",
    "    card = deck.deal()\n",
    "    hand.add_card(card)\n",
    "    \n",
    "    if (hand.value > 21):\n",
    "        hand.adjust_for_ace()\n",
    "        hand.aces = 0"
   ]
  },
  {
   "cell_type": "markdown",
   "metadata": {},
   "source": [
    "**Write a function prompting the Player to Hit or Stand**"
   ]
  },
  {
   "cell_type": "code",
   "execution_count": 9,
   "metadata": {},
   "outputs": [],
   "source": [
    "def hit_or_stand(deck,hand):\n",
    "    global playing \n",
    "    \n",
    "    while True:\n",
    "        \n",
    "        tok = input('Hit or Stand (h\\s)?').lower()\n",
    "        if (tok == 'h'):\n",
    "            hit(deck,hand)\n",
    "            break\n",
    "        elif (tok == 's'):\n",
    "            playing = False\n",
    "            break\n",
    "        else:\n",
    "            print('Input not understood')"
   ]
  },
  {
   "cell_type": "markdown",
   "metadata": {},
   "source": [
    "**Write functions to display cards**"
   ]
  },
  {
   "cell_type": "code",
   "execution_count": 10,
   "metadata": {},
   "outputs": [],
   "source": [
    "def show_some(player,dealer):\n",
    "    \n",
    "    print(\"Dealer's hand:\")\n",
    "    rev_card = dealer.cards[1]\n",
    "    print(rev_card)\n",
    "    print(\"Value of the revealed card {}\".format(values[rev_card.rank]))\n",
    "    \n",
    "    print('-----------------------------')\n",
    "    \n",
    "    print('Your hand:')\n",
    "    for card in player.cards:\n",
    "        print(card)\n",
    "    print('------------------')\n",
    "    print('Your hand value: {}'.format(player.value))\n",
    "\n",
    "    \n",
    "def show_all(player,dealer):\n",
    "    \n",
    "    print(\"Dealer's hand:\")\n",
    "    for card in dealer.cards:\n",
    "        print(card)\n",
    "    print('------------------')\n",
    "    print(\"Dealer's hand value: {}\".format(dealer.value))\n",
    "    \n",
    "    print('-----------------------------')\n",
    "    \n",
    "    print('Your hand:')\n",
    "    for card in player.cards:\n",
    "        print(card)\n",
    "    print('------------------')\n",
    "    print('Your hand value: {}'.format(player.value))"
   ]
  },
  {
   "cell_type": "markdown",
   "metadata": {},
   "source": [
    "**Write functions to handle end of game scenarios**"
   ]
  },
  {
   "cell_type": "code",
   "execution_count": 11,
   "metadata": {},
   "outputs": [],
   "source": [
    "def player_busts(chips):\n",
    "    print(\"You busted, you bastard!\")\n",
    "    chips.lose_bet()\n",
    "\n",
    "def player_wins(chips):\n",
    "    print('congrats!')\n",
    "    chips.win_bet()\n",
    "\n",
    "def dealer_busts(chips):\n",
    "    print('Dealer got busted.')\n",
    "    chips.win_bet()\n",
    "    \n",
    "def dealer_wins(chips):\n",
    "    print('Fuck it, he\\'s stronger.')\n",
    "    chips.lose_bet()\n",
    "    \n",
    "def push():\n",
    "    print('Noting happend. A tie.')"
   ]
  },
  {
   "cell_type": "markdown",
   "metadata": {},
   "source": [
    "### And now on to the game!!"
   ]
  },
  {
   "cell_type": "code",
   "execution_count": 16,
   "metadata": {
    "scrolled": true
   },
   "outputs": [
    {
     "name": "stdout",
     "output_type": "stream",
     "text": [
      "Goooooo\n",
      "................\n",
      "You currently have 100 dollars.\n",
      "Place your bet75\n",
      "~~~~~~~~~~~~~~~\n",
      "Dealer's hand:\n",
      "Queen of Clubs\n",
      "Value of the revealed card 10\n",
      "-----------------------------\n",
      "Your hand:\n",
      "Four of Clubs\n",
      "Six of Hearts\n",
      "------------------\n",
      "Your hand value: 10\n",
      "::::::::::::::::::::::::::::::\n",
      "Double Down? (yes or no)yes\n",
      "oooook\n",
      "Raising your bet, eh? How much? You have 25 dollars remaining.5\n",
      "Dealer's hand:\n",
      "Queen of Clubs\n",
      "Value of the revealed card 10\n",
      "-----------------------------\n",
      "Your hand:\n",
      "Four of Clubs\n",
      "Six of Hearts\n",
      "Ace of Spades\n",
      "------------------\n",
      "Your hand value: 21\n",
      "::::::::::::::::::::::::::::::\n",
      "congrats!\n",
      "^^^^^^^^^^^^^^^^^^^^^^^^^^^^\n",
      "Dealer's hand:\n",
      "Five of Spades\n",
      "Queen of Clubs\n",
      "King of Clubs\n",
      "------------------\n",
      "Dealer's hand value: 25\n",
      "-----------------------------\n",
      "Your hand:\n",
      "Four of Clubs\n",
      "Six of Hearts\n",
      "Ace of Spades\n",
      "------------------\n",
      "Your hand value: 21\n",
      "::::::::::::::::::::::::::::::\n",
      "Dealer got busted.\n",
      "You have currently 420 dinara\n",
      "One more (yes or no)?no\n",
      "GAME OVER\n"
     ]
    }
   ],
   "source": [
    "igra = True\n",
    "money = Chips()\n",
    "while igra:\n",
    "    # Print an opening statement\n",
    "    print(\"Goooooo\")\n",
    "    print('................')\n",
    "    \n",
    "    \n",
    "    # Create & shuffle the deck, deal two cards to each player\n",
    "    D = Deck()\n",
    "    D.shuffle()\n",
    "    \n",
    "    player = Hand()\n",
    "    dealer = Hand()\n",
    "    \n",
    "    hit(D,player)\n",
    "    hit(D,dealer)\n",
    "    hit(D,player)\n",
    "    hit(D,dealer)\n",
    "    \n",
    "    \n",
    "    # Set up the Player's chips\n",
    "    print(money)\n",
    "    \n",
    "    \n",
    "    # Prompt the Player for their bet\n",
    "    take_bet(money)\n",
    "    print('~~~~~~~~~~~~~~~')\n",
    "\n",
    "    \n",
    "    # Show cards (but keep one dealer card hidden)\n",
    "    show_some(player,dealer)\n",
    "    print('::::::::::::::::::::::::::::::')\n",
    "\n",
    "    playing = True\n",
    "    first_turn = True\n",
    "    bust = False\n",
    "    while playing:  # recall this variable from our hit_or_stand function\n",
    "        \n",
    "        while first_turn and True:\n",
    "            d_d = input('Double Down? (yes or no)')\n",
    "            \n",
    "            if (d_d == 'yes'):\n",
    "                print('oooook')\n",
    "                playing = False\n",
    "                double_down(money)\n",
    "                hit(D,player)\n",
    "                break\n",
    "            \n",
    "            elif(d_d == 'no'):\n",
    "                first_turn = False\n",
    "                break\n",
    "            \n",
    "            else:\n",
    "                print('Input not understood.')\n",
    "        \n",
    "        # Prompt for Player to Hit or Stand\n",
    "        if playing and not first_turn:\n",
    "            hit_or_stand(D,player)\n",
    "        \n",
    "        \n",
    "        # Show cards (but keep one dealer card hidden)\n",
    "        show_some(player, dealer)\n",
    "        print('::::::::::::::::::::::::::::::')\n",
    " \n",
    "        \n",
    "        # If player's hand exceeds 21, run player_busts() and break out of loop\n",
    "        if (player.value > 21):\n",
    "            player_busts(money)\n",
    "            bust = True\n",
    "            break\n",
    "        elif (player.value == 21):\n",
    "            player_wins(money)\n",
    "            break\n",
    "    \n",
    "    print('^^^^^^^^^^^^^^^^^^^^^^^^^^^^')\n",
    "\n",
    "    # If Player hasn't busted, play Dealer's hand until Dealer reaches 17\n",
    "    if not bust:\n",
    "        while (dealer.value < 17):\n",
    "            hit(D,dealer)\n",
    "            \n",
    "        # Show all cards\n",
    "        show_all(player,dealer)\n",
    "        print('::::::::::::::::::::::::::::::')\n",
    "    \n",
    "        # Run different winning scenarios\n",
    "        if (dealer.value > 21):\n",
    "            dealer_busts(money)\n",
    "        elif (dealer.value > player.value):\n",
    "            dealer_wins(money)\n",
    "        elif (player.value > dealer.value):\n",
    "            player_wins(money)\n",
    "        elif (player.value == dealer.value):\n",
    "            push()\n",
    "        \n",
    "    \n",
    "    # Inform Player of their chips total \n",
    "    print('You have currently {} dinara'.format(money.total))\n",
    "    \n",
    "    # Ask to play again\n",
    "    while True:\n",
    "        if (money.total == 0):\n",
    "            print('prso si')\n",
    "            igra = False\n",
    "            break\n",
    "        ponovo_ponovo_ponovo = input('One more (yes or no)?').lower()\n",
    "        if (ponovo_ponovo_ponovo == 'yes'):\n",
    "            break\n",
    "        elif (ponovo_ponovo_ponovo == 'no'):\n",
    "            print('GAME OVER')\n",
    "            igra = False\n",
    "            break\n",
    "        else:\n",
    "            print('Input not understood.')"
   ]
  },
  {
   "cell_type": "code",
   "execution_count": null,
   "metadata": {},
   "outputs": [],
   "source": []
  }
 ],
 "metadata": {
  "kernelspec": {
   "display_name": "Python 3",
   "language": "python",
   "name": "python3"
  },
  "language_info": {
   "codemirror_mode": {
    "name": "ipython",
    "version": 3
   },
   "file_extension": ".py",
   "mimetype": "text/x-python",
   "name": "python",
   "nbconvert_exporter": "python",
   "pygments_lexer": "ipython3",
   "version": "3.6.8"
  }
 },
 "nbformat": 4,
 "nbformat_minor": 1
}
