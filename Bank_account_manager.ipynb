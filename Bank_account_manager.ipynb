{
 "cells": [
  {
   "cell_type": "markdown",
   "metadata": {},
   "source": [
    "### Script Description\n",
    "\n",
    "Python script simulating a bank account manager. It will register users, track their account balance as they deposit or withdraw the money."
   ]
  },
  {
   "cell_type": "code",
   "execution_count": 1,
   "metadata": {},
   "outputs": [],
   "source": [
    "import random"
   ]
  },
  {
   "cell_type": "markdown",
   "metadata": {},
   "source": [
    "**Create account class**"
   ]
  },
  {
   "cell_type": "code",
   "execution_count": 3,
   "metadata": {},
   "outputs": [],
   "source": [
    "class Account:\n",
    "    \n",
    "    def __init__(self,acc_num,init_dep):\n",
    "        self.acc_num = acc_num\n",
    "        self.balance = init_dep\n",
    "        \n",
    "    def __str__(self):\n",
    "        return f'Account balacne: {self.balance:.2f} EUR'\n",
    "    \n",
    "    def deposit(self,money):\n",
    "        self.balance += money\n",
    "        \n",
    "    def withdrawal(self,money):\n",
    "        if (self.balance >= money):\n",
    "            self.balance -= money\n",
    "        else:\n",
    "            print('Insufficient funds.')"
   ]
  },
  {
   "cell_type": "markdown",
   "metadata": {},
   "source": [
    "We create two different types of account: Savings and Bussiness."
   ]
  },
  {
   "cell_type": "code",
   "execution_count": 4,
   "metadata": {},
   "outputs": [],
   "source": [
    "class Savings(Account):\n",
    "    \n",
    "    def __init__(self,acc_num,balance):\n",
    "        super().__init__(acc_num,balance)\n",
    "        \n",
    "    def __str__(self):\n",
    "        return f'Account Number: #{self.acc_num} \\nAccount Type: Savings \\n{super().__str__()} \\n--------------------'"
   ]
  },
  {
   "cell_type": "code",
   "execution_count": 5,
   "metadata": {},
   "outputs": [],
   "source": [
    "class Bussiness(Account):\n",
    "    \n",
    "    def __init__(self,acc_num,balance):\n",
    "        super().__init__(acc_num,balance)\n",
    "        \n",
    "    def __str__(self):\n",
    "        return f'Account Number: #{self.acc_num} \\nAccount Type: Bussiness \\n{super().__str__()} \\n--------------------'"
   ]
  },
  {
   "cell_type": "markdown",
   "metadata": {},
   "source": [
    "**Create Client class**"
   ]
  },
  {
   "cell_type": "code",
   "execution_count": 8,
   "metadata": {},
   "outputs": [],
   "source": [
    "class Client:\n",
    "    \n",
    "    def __init__(self,name):\n",
    "        self.name = name\n",
    "        self.accounts = {'S':[],'B':[]}\n",
    "        \n",
    "    def __str__(self):\n",
    "        return self.name\n",
    "        \n",
    "    \n",
    "    def open_acc(self):\n",
    "        \n",
    "        while True:\n",
    "            acc_type = input('Type of account? (S/B)')[0].upper()\n",
    "            \n",
    "            if (acc_type == 'S'):\n",
    "                acc_num = random.randint(1e+3,1e+4)\n",
    "                \n",
    "                while True:\n",
    "                    try:\n",
    "                        init_bal = float(input('What\\'s your deposit?'))\n",
    "                    except:\n",
    "                        print('Please enter a number.')\n",
    "                    else:\n",
    "                        break\n",
    "                        \n",
    "                self.accounts['S'].append(Savings(acc_num,init_bal))\n",
    "                print(f'Savings Account #{acc_num} opened.')\n",
    "                break\n",
    "                \n",
    "            elif (acc_type == 'B'):\n",
    "                acc_num = random.randint(1e+3,1e+4)\n",
    "                \n",
    "                while True:\n",
    "                    try:\n",
    "                        init_bal = float(input('What\\'s your deposit?'))\n",
    "                    except:\n",
    "                        print('Please enter a number.')\n",
    "                    else:\n",
    "                        break\n",
    "                        \n",
    "                self.accounts['S'].append(Bussiness(acc_num,init_bal))\n",
    "                print(f'Bussiness Account #{acc_num} opened.')\n",
    "                break\n",
    "                \n",
    "            else:\n",
    "                print('Input not understood.')\n",
    "                \n",
    "       \n",
    "    \n",
    "    def check_all(self):\n",
    "        \n",
    "        total = 0\n",
    "        \n",
    "        for acc_type in self.accounts:\n",
    "            for acc in self.accounts[acc_type]:\n",
    "                total += acc.balance\n",
    "                print(acc)\n",
    "                \n",
    "        print(f'Total Balance: {total}')\n",
    "        \n",
    "        \n",
    "    def check_acc(self,num):\n",
    "        \n",
    "        check = False\n",
    "        \n",
    "        for acc_type in self.accounts:\n",
    "            for acc in self.accounts[acc_type]:\n",
    "                if (num == acc.acc_num):\n",
    "                    print(acc)\n",
    "                    check = True\n",
    "                    break\n",
    "\n",
    "        if not check:\n",
    "            print('Wrong number')        "
   ]
  },
  {
   "cell_type": "markdown",
   "metadata": {},
   "source": [
    "**Create function that regulates deposits**"
   ]
  },
  {
   "cell_type": "code",
   "execution_count": 9,
   "metadata": {},
   "outputs": [],
   "source": [
    "def acc_deposit(client,num,money):\n",
    "    \n",
    "    check = False\n",
    "        \n",
    "    for acc_type in client.accounts:\n",
    "        for acc in client.accounts[acc_type]:\n",
    "            if (num == acc.acc_num):\n",
    "                acc.deposit(money)\n",
    "                check = True\n",
    "                break\n",
    "\n",
    "    if not check:   \n",
    "        print('Account not found.')"
   ]
  },
  {
   "cell_type": "markdown",
   "metadata": {},
   "source": [
    "**Create function that regulates withdrawals**"
   ]
  },
  {
   "cell_type": "code",
   "execution_count": 10,
   "metadata": {},
   "outputs": [],
   "source": [
    "def acc_withdrawal(client,num,money):\n",
    "    \n",
    "    check = False\n",
    "        \n",
    "    for acc_type in client.accounts:\n",
    "        for acc in client.accounts[acc_type]:\n",
    "            if (num == acc.acc_num):\n",
    "                acc.withdrawal(money)\n",
    "                check = True\n",
    "                break\n",
    "\n",
    "    if not check:   \n",
    "        print('Account not found.')"
   ]
  },
  {
   "cell_type": "markdown",
   "metadata": {},
   "source": [
    "**Run the account manager**"
   ]
  },
  {
   "cell_type": "code",
   "execution_count": 11,
   "metadata": {},
   "outputs": [],
   "source": [
    "j = Client('Julija')"
   ]
  },
  {
   "cell_type": "code",
   "execution_count": 12,
   "metadata": {},
   "outputs": [
    {
     "name": "stdout",
     "output_type": "stream",
     "text": [
      "Type of account? (S/B)s\n",
      "What's your deposit?1976\n",
      "Savings Account #3614 opened.\n"
     ]
    }
   ],
   "source": [
    "j.open_acc()"
   ]
  },
  {
   "cell_type": "code",
   "execution_count": 13,
   "metadata": {},
   "outputs": [
    {
     "name": "stdout",
     "output_type": "stream",
     "text": [
      "Account Number: #3614 \n",
      "Account Type: Savings \n",
      "Account balacne: 1976.00 EUR \n",
      "--------------------\n",
      "Total Balance: 1976.0\n"
     ]
    }
   ],
   "source": [
    "j.check_all()"
   ]
  },
  {
   "cell_type": "code",
   "execution_count": 15,
   "metadata": {},
   "outputs": [],
   "source": [
    "acc_deposit(j,3614,100)"
   ]
  },
  {
   "cell_type": "code",
   "execution_count": 16,
   "metadata": {},
   "outputs": [
    {
     "name": "stdout",
     "output_type": "stream",
     "text": [
      "Account Number: #3614 \n",
      "Account Type: Savings \n",
      "Account balacne: 2076.00 EUR \n",
      "--------------------\n"
     ]
    }
   ],
   "source": [
    "j.check_acc(3614)"
   ]
  },
  {
   "cell_type": "code",
   "execution_count": 18,
   "metadata": {},
   "outputs": [
    {
     "name": "stdout",
     "output_type": "stream",
     "text": [
      "Insufficient funds.\n"
     ]
    }
   ],
   "source": [
    "acc_withdrawal(j,3614,3000)"
   ]
  },
  {
   "cell_type": "code",
   "execution_count": null,
   "metadata": {},
   "outputs": [],
   "source": []
  }
 ],
 "metadata": {
  "kernelspec": {
   "display_name": "Python 3",
   "language": "python",
   "name": "python3"
  },
  "language_info": {
   "codemirror_mode": {
    "name": "ipython",
    "version": 3
   },
   "file_extension": ".py",
   "mimetype": "text/x-python",
   "name": "python",
   "nbconvert_exporter": "python",
   "pygments_lexer": "ipython3",
   "version": "3.6.8"
  }
 },
 "nbformat": 4,
 "nbformat_minor": 2
}
